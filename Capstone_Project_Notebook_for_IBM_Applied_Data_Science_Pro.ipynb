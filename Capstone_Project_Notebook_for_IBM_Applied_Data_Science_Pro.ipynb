{
  "nbformat": 4,
  "nbformat_minor": 0,
  "metadata": {
    "colab": {
      "name": "Capstone Project Notebook for IBM Applied Data Science Pro.ipynb",
      "provenance": [],
      "collapsed_sections": [],
      "include_colab_link": true
    },
    "kernelspec": {
      "name": "python3",
      "display_name": "Python 3"
    }
  },
  "cells": [
    {
      "cell_type": "markdown",
      "metadata": {
        "id": "view-in-github",
        "colab_type": "text"
      },
      "source": [
        "<a href=\"https://colab.research.google.com/github/imtiaj-sreejon/Coursera_Capstone/blob/master/Capstone_Project_Notebook_for_IBM_Applied_Data_Science_Pro.ipynb\" target=\"_parent\"><img src=\"https://colab.research.google.com/assets/colab-badge.svg\" alt=\"Open In Colab\"/></a>"
      ]
    },
    {
      "cell_type": "markdown",
      "metadata": {
        "id": "SnqnAg_FD7bS",
        "colab_type": "text"
      },
      "source": [
        "# <font size=14>Capstone Project Notebook</font>\n",
        "This notebook is for the <font color='green'>**capstone project**</font> under <font color='teal'>*IBM Applied Data Science Professional Course*</font> hosted on Coursera."
      ]
    },
    {
      "cell_type": "code",
      "metadata": {
        "id": "YFFZEJw6CWFp",
        "colab_type": "code",
        "outputId": "c54ddc5c-6c99-45a7-cea0-6aeaabada0dd",
        "colab": {
          "base_uri": "https://localhost:8080/",
          "height": 34
        }
      },
      "source": [
        "import pandas as pd\n",
        "import numpy as np\n",
        "\n",
        "print('Hello Capstone Project Course!')"
      ],
      "execution_count": 8,
      "outputs": [
        {
          "output_type": "stream",
          "text": [
            "Hello Capstone Project Course!\n"
          ],
          "name": "stdout"
        }
      ]
    },
    {
      "cell_type": "markdown",
      "metadata": {
        "id": "7G5talRICGVE",
        "colab_type": "text"
      },
      "source": [
        "# Build Toronto neighborhood dataframe by scraping [Wikipedia](https://en.wikipedia.org/wiki/List_of_postal_codes_of_Canada:_M) "
      ]
    },
    {
      "cell_type": "markdown",
      "metadata": {
        "id": "XScC_ysAGi96",
        "colab_type": "text"
      },
      "source": [
        "### Our objective in this section is to get the postal code and neighborhood information from wikipedia and put that into a *pandas* dataframe."
      ]
    },
    {
      "cell_type": "markdown",
      "metadata": {
        "id": "ukMU1tWo5Rgi",
        "colab_type": "text"
      },
      "source": [
        "At first, we need to fetch the wikipedia page through the <b><i>requests</i></b> module."
      ]
    },
    {
      "cell_type": "code",
      "metadata": {
        "id": "HGW_aVww3jA9",
        "colab_type": "code",
        "outputId": "40185783-7404-4710-9be7-394da63e3dab",
        "colab": {
          "base_uri": "https://localhost:8080/",
          "height": 118
        }
      },
      "source": [
        "import requests\n",
        "\n",
        "url = 'https://en.wikipedia.org/wiki/List_of_postal_codes_of_Canada:_M'\n",
        "\n",
        "source = requests.get(url).text\n",
        "\n",
        "# print first 6 lines\n",
        "for i, line in zip(range(6), source.splitlines()):\n",
        "    print(line)"
      ],
      "execution_count": 9,
      "outputs": [
        {
          "output_type": "stream",
          "text": [
            "\n",
            "<!DOCTYPE html>\n",
            "<html class=\"client-nojs\" lang=\"en\" dir=\"ltr\">\n",
            "<head>\n",
            "<meta charset=\"UTF-8\"/>\n",
            "<title>List of postal codes of Canada: M - Wikipedia</title>\n"
          ],
          "name": "stdout"
        }
      ]
    },
    {
      "cell_type": "markdown",
      "metadata": {
        "id": "ukNmUes_3fcl",
        "colab_type": "text"
      },
      "source": [
        "Now let's import <b>BeautifulSoup</b> which is the most popular library for parsing webpage."
      ]
    },
    {
      "cell_type": "code",
      "metadata": {
        "id": "00ylfVqnFSay",
        "colab_type": "code",
        "colab": {}
      },
      "source": [
        "import bs4\n",
        "from bs4 import BeautifulSoup"
      ],
      "execution_count": 0,
      "outputs": []
    },
    {
      "cell_type": "markdown",
      "metadata": {
        "id": "CMILZiX7u-Qe",
        "colab_type": "text"
      },
      "source": [
        "We will parse the wikipedia page now. As the postal codes of Toronto are recorded in a table, to avoid unneceassary memory wastage, we will parse only the portion of the webpage that contains `<table>` tags.  For more info on parsing part of a webpage, visit [here](https://beautiful-soup-4.readthedocs.io/en/latest/#parsing-only-part-of-a-document)."
      ]
    },
    {
      "cell_type": "markdown",
      "metadata": {
        "id": "s1NVu8QSxhua",
        "colab_type": "text"
      },
      "source": [
        "We will use the <b>lxml</b> parser as it supports parsing partial webpage."
      ]
    },
    {
      "cell_type": "code",
      "metadata": {
        "id": "H4fPAyanEfiq",
        "colab_type": "code",
        "colab": {}
      },
      "source": [
        "from bs4 import SoupStrainer # this module is needed for partial parsing\n",
        "\n",
        "only_table_tags = SoupStrainer('table')\n",
        "\n",
        "soup = BeautifulSoup(source, 'lxml', parse_only=only_table_tags)\n",
        "\n",
        "print(soup.prettify()) # the output is cleared to save space\n",
        "\n",
        "# limit height of scrollable output window\n",
        "from IPython.display import Javascript\n",
        "display(Javascript('''google.colab.output.setIframeHeight(0, true, {maxHeight: 400})'''))"
      ],
      "execution_count": 0,
      "outputs": []
    },
    {
      "cell_type": "markdown",
      "metadata": {
        "id": "4vXicjpf6gsJ",
        "colab_type": "text"
      },
      "source": [
        "Now we have got all the tables in the page and we can see, there are 3 tables in total. The first table contains our desired postal codes. So, if we use the `find()` method then it will return only the first matching occurence and thats what we need."
      ]
    },
    {
      "cell_type": "code",
      "metadata": {
        "id": "8CLZ1H42GBXK",
        "colab_type": "code",
        "colab": {}
      },
      "source": [
        "postal_code_table = soup.find('table')\n",
        "\n",
        "print(postal_code_table.prettify()) # the output is cleared to save space\n",
        "\n",
        "# limit height of scrollable output window\n",
        "from IPython.display import Javascript\n",
        "display(Javascript('''google.colab.output.setIframeHeight(0, true, {maxHeight: 400})'''))"
      ],
      "execution_count": 0,
      "outputs": []
    },
    {
      "cell_type": "markdown",
      "metadata": {
        "id": "04atykoX_1ss",
        "colab_type": "text"
      },
      "source": [
        "Here we can see, each neighborhood information is contained within a separate ***&lt;tr&gt;*** tag. Each `<tr>` tag contains 3 `<td>` tags. First `<td>` contains the **postal code**. Second one contains the **Borough**. And last one contains **Neighborhood** name. "
      ]
    },
    {
      "cell_type": "markdown",
      "metadata": {
        "id": "38k-yFS6BHVQ",
        "colab_type": "text"
      },
      "source": [
        "For making the task a bit easier, we will remove the first row as its just the header names. And we will store rest of the table in a separate variable."
      ]
    },
    {
      "cell_type": "code",
      "metadata": {
        "id": "WKnF4l-9GHZW",
        "colab_type": "code",
        "outputId": "77aae22b-9ed9-44ab-9a3e-903d68ecdf1f",
        "colab": {
          "base_uri": "https://localhost:8080/",
          "height": 588
        }
      },
      "source": [
        "# soup_object('string_to_find') works the same as soup_object.find_all('string_to_find')\n",
        "# its just a shorthand notation\n",
        "table_data = postal_code_table('tr')[1:] # we are storing everything after the first row\n",
        "\n",
        "# print first 3 table rows\n",
        "for i, line in zip(range(3), table_data):\n",
        "    print(line.prettify())"
      ],
      "execution_count": 13,
      "outputs": [
        {
          "output_type": "stream",
          "text": [
            "<tr>\n",
            " <td>\n",
            "  M1A\n",
            " </td>\n",
            " <td>\n",
            "  Not assigned\n",
            " </td>\n",
            " <td>\n",
            " </td>\n",
            "</tr>\n",
            "\n",
            "<tr>\n",
            " <td>\n",
            "  M2A\n",
            " </td>\n",
            " <td>\n",
            "  Not assigned\n",
            " </td>\n",
            " <td>\n",
            " </td>\n",
            "</tr>\n",
            "\n",
            "<tr>\n",
            " <td>\n",
            "  M3A\n",
            " </td>\n",
            " <td>\n",
            "  North York\n",
            " </td>\n",
            " <td>\n",
            "  Parkwoods\n",
            " </td>\n",
            "</tr>\n",
            "\n"
          ],
          "name": "stdout"
        }
      ]
    },
    {
      "cell_type": "markdown",
      "metadata": {
        "id": "AyBH9RHpkfdd",
        "colab_type": "text"
      },
      "source": [
        "Now that we have all the rows containing postal code and corresponding neighborhood, we can iterate over each row and get our desired data. We can have all the 3 children i.e. `<td>` tags under each `<tr>` through the `.contents` method."
      ]
    },
    {
      "cell_type": "markdown",
      "metadata": {
        "id": "14xBHw88t5Pv",
        "colab_type": "text"
      },
      "source": [
        "But we have two problems here. One is all the newlines i.e. `'/n'` are also children of the `<tr>` tag. And second, the text under `<td>` also contains newlines(`'\\n'`) within them. So for ease of further processing, we will remove all the newlines from `<tr>` children and also strip `'\\n'` from each string."
      ]
    },
    {
      "cell_type": "code",
      "metadata": {
        "id": "xb6yvJg494rl",
        "colab_type": "code",
        "outputId": "59bafba6-6a46-4e8e-eb44-1cb9b549cf1f",
        "colab": {
          "base_uri": "https://localhost:8080/",
          "height": 185
        }
      },
      "source": [
        "print('The children before removing newlines:')\n",
        "print(table_data[0].contents)\n",
        "print('The String before:', repr(table_data[0].contents[1].string)) # repr() is used to see the newlines in the output\n",
        "\n",
        "# remove all the newlines from <tr> children\n",
        "for tr in table_data:\n",
        "    tr.contents[:] = [item for item in tr.contents if not item=='\\n']\n",
        "\n",
        "# remove all the newlines from the strings under <td>\n",
        "for tr in table_data:\n",
        "    for item in tr.contents:\n",
        "        if isinstance(item, bs4.element.Tag):\n",
        "            item.string = item.string.strip('\\n')\n",
        "\n",
        "print('\\nThe children after removing newlines:')\n",
        "print(table_data[0].contents)\n",
        "print('The String after:', repr(table_data[0].contents[0].string))"
      ],
      "execution_count": 14,
      "outputs": [
        {
          "output_type": "stream",
          "text": [
            "The children before removing newlines:\n",
            "['\\n', <td>M1A\n",
            "</td>, '\\n', <td>Not assigned\n",
            "</td>, '\\n', <td>\n",
            "</td>]\n",
            "The String before: 'M1A\\n'\n",
            "\n",
            "The children after removing newlines:\n",
            "[<td>M1A</td>, <td>Not assigned</td>, <td></td>]\n",
            "The String after: 'M1A'\n"
          ],
          "name": "stdout"
        }
      ]
    },
    {
      "cell_type": "markdown",
      "metadata": {
        "id": "-JD2Fhvy6xi4",
        "colab_type": "text"
      },
      "source": [
        "Now we have a very fine list containing our desired data. We just need to extract the information and put those into a dataframe."
      ]
    },
    {
      "cell_type": "markdown",
      "metadata": {
        "id": "UicTJkhQ7ycy",
        "colab_type": "text"
      },
      "source": [
        "First lets create an empty dataframe with just the column names."
      ]
    },
    {
      "cell_type": "code",
      "metadata": {
        "id": "zHhtHBQcoeHh",
        "colab_type": "code",
        "outputId": "6c4d4264-9a09-4b3e-efaa-7bdb49cc266c",
        "colab": {
          "base_uri": "https://localhost:8080/",
          "height": 47
        }
      },
      "source": [
        "column_names = ['PostalCode', 'Borough', 'Neighborhood']\n",
        "\n",
        "neigh_df = pd.DataFrame(columns=column_names)\n",
        "\n",
        "neigh_df"
      ],
      "execution_count": 15,
      "outputs": [
        {
          "output_type": "execute_result",
          "data": {
            "text/html": [
              "<div>\n",
              "<style scoped>\n",
              "    .dataframe tbody tr th:only-of-type {\n",
              "        vertical-align: middle;\n",
              "    }\n",
              "\n",
              "    .dataframe tbody tr th {\n",
              "        vertical-align: top;\n",
              "    }\n",
              "\n",
              "    .dataframe thead th {\n",
              "        text-align: right;\n",
              "    }\n",
              "</style>\n",
              "<table border=\"1\" class=\"dataframe\">\n",
              "  <thead>\n",
              "    <tr style=\"text-align: right;\">\n",
              "      <th></th>\n",
              "      <th>PostalCode</th>\n",
              "      <th>Borough</th>\n",
              "      <th>Neighborhood</th>\n",
              "    </tr>\n",
              "  </thead>\n",
              "  <tbody>\n",
              "  </tbody>\n",
              "</table>\n",
              "</div>"
            ],
            "text/plain": [
              "Empty DataFrame\n",
              "Columns: [PostalCode, Borough, Neighborhood]\n",
              "Index: []"
            ]
          },
          "metadata": {
            "tags": []
          },
          "execution_count": 15
        }
      ]
    },
    {
      "cell_type": "markdown",
      "metadata": {
        "id": "ip2Y15T3-KbF",
        "colab_type": "text"
      },
      "source": [
        "Now we will iterate over our refined `table_data` to extract postal code, borough and neighborhood information. While extracting, following rules will be considered as per the assignment requirements:\n",
        "\n",
        "1.   Only process the cells that have an assigned borough. Ignore cells with a borough that is **Not assigned**.\n",
        "2.   If a cell has a borough but a **Not assigned** neighborhood, then the neighborhood will be the same as the borough.\n",
        "\n",
        "Another rule was there that said there might be two rows with same postal code but i guess, wikipedia page was updated and that condition doesn't exist anymore i.e. all the rows have different postal codes."
      ]
    },
    {
      "cell_type": "code",
      "metadata": {
        "id": "gRjxWhe0694I",
        "colab_type": "code",
        "outputId": "c8a66ddc-67b7-407c-ea65-248f2e68f2ad",
        "colab": {
          "base_uri": "https://localhost:8080/",
          "height": 195
        }
      },
      "source": [
        "for tr in table_data:\n",
        "    postal_code = tr.contents[0].string # first child is postal code\n",
        "    borough = tr.contents[1].string # second child is borough\n",
        "    neighborhood = tr.contents[2].string # third child is neighborhood\n",
        "\n",
        "    # 1st condition\n",
        "    if (borough == 'Not assigned'):\n",
        "        continue\n",
        "\n",
        "    # 2nd condition\n",
        "    if (neighborhood == 'Not assigned'):\n",
        "        neighborhood = borough\n",
        "\n",
        "    # add the info to dataframe\n",
        "    neigh_df = neigh_df.append({'PostalCode':postal_code,\n",
        "                                'Borough':borough,\n",
        "                                'Neighborhood':neighborhood}, ignore_index=True)\n",
        "    \n",
        "neigh_df.head()"
      ],
      "execution_count": 16,
      "outputs": [
        {
          "output_type": "execute_result",
          "data": {
            "text/html": [
              "<div>\n",
              "<style scoped>\n",
              "    .dataframe tbody tr th:only-of-type {\n",
              "        vertical-align: middle;\n",
              "    }\n",
              "\n",
              "    .dataframe tbody tr th {\n",
              "        vertical-align: top;\n",
              "    }\n",
              "\n",
              "    .dataframe thead th {\n",
              "        text-align: right;\n",
              "    }\n",
              "</style>\n",
              "<table border=\"1\" class=\"dataframe\">\n",
              "  <thead>\n",
              "    <tr style=\"text-align: right;\">\n",
              "      <th></th>\n",
              "      <th>PostalCode</th>\n",
              "      <th>Borough</th>\n",
              "      <th>Neighborhood</th>\n",
              "    </tr>\n",
              "  </thead>\n",
              "  <tbody>\n",
              "    <tr>\n",
              "      <th>0</th>\n",
              "      <td>M3A</td>\n",
              "      <td>North York</td>\n",
              "      <td>Parkwoods</td>\n",
              "    </tr>\n",
              "    <tr>\n",
              "      <th>1</th>\n",
              "      <td>M4A</td>\n",
              "      <td>North York</td>\n",
              "      <td>Victoria Village</td>\n",
              "    </tr>\n",
              "    <tr>\n",
              "      <th>2</th>\n",
              "      <td>M5A</td>\n",
              "      <td>Downtown Toronto</td>\n",
              "      <td>Regent Park, Harbourfront</td>\n",
              "    </tr>\n",
              "    <tr>\n",
              "      <th>3</th>\n",
              "      <td>M6A</td>\n",
              "      <td>North York</td>\n",
              "      <td>Lawrence Manor, Lawrence Heights</td>\n",
              "    </tr>\n",
              "    <tr>\n",
              "      <th>4</th>\n",
              "      <td>M7A</td>\n",
              "      <td>Downtown Toronto</td>\n",
              "      <td>Queen's Park, Ontario Provincial Government</td>\n",
              "    </tr>\n",
              "  </tbody>\n",
              "</table>\n",
              "</div>"
            ],
            "text/plain": [
              "  PostalCode           Borough                                 Neighborhood\n",
              "0        M3A        North York                                    Parkwoods\n",
              "1        M4A        North York                             Victoria Village\n",
              "2        M5A  Downtown Toronto                    Regent Park, Harbourfront\n",
              "3        M6A        North York             Lawrence Manor, Lawrence Heights\n",
              "4        M7A  Downtown Toronto  Queen's Park, Ontario Provincial Government"
            ]
          },
          "metadata": {
            "tags": []
          },
          "execution_count": 16
        }
      ]
    },
    {
      "cell_type": "code",
      "metadata": {
        "id": "n-0LJ9lAIARp",
        "colab_type": "code",
        "colab": {
          "base_uri": "https://localhost:8080/",
          "height": 202
        },
        "outputId": "1c194dc5-15c6-4449-f1a4-0902a954312a"
      },
      "source": [
        "# check values in borough column\n",
        "neigh_df['Borough'].value_counts()"
      ],
      "execution_count": 18,
      "outputs": [
        {
          "output_type": "execute_result",
          "data": {
            "text/plain": [
              "North York          24\n",
              "Downtown Toronto    19\n",
              "Scarborough         17\n",
              "Etobicoke           12\n",
              "Central Toronto      9\n",
              "West Toronto         6\n",
              "York                 5\n",
              "East Toronto         5\n",
              "East York            5\n",
              "Mississauga          1\n",
              "Name: Borough, dtype: int64"
            ]
          },
          "metadata": {
            "tags": []
          },
          "execution_count": 18
        }
      ]
    },
    {
      "cell_type": "markdown",
      "metadata": {
        "id": "lSx7zO3iF7b1",
        "colab_type": "text"
      },
      "source": [
        "Finally, lets get the number of rows of our dataframe using `.shape` method."
      ]
    },
    {
      "cell_type": "code",
      "metadata": {
        "id": "Zp1ud_5mBioU",
        "colab_type": "code",
        "outputId": "e13d93d0-3712-4bb1-8b50-4a1874f4e4c6",
        "colab": {
          "base_uri": "https://localhost:8080/",
          "height": 34
        }
      },
      "source": [
        "print('Total number of rows:', neigh_df.shape[0])"
      ],
      "execution_count": 17,
      "outputs": [
        {
          "output_type": "stream",
          "text": [
            "Total number of rows: 103\n"
          ],
          "name": "stdout"
        }
      ]
    },
    {
      "cell_type": "code",
      "metadata": {
        "id": "HZluiFEcFuei",
        "colab_type": "code",
        "colab": {}
      },
      "source": [
        ""
      ],
      "execution_count": 0,
      "outputs": []
    }
  ]
}