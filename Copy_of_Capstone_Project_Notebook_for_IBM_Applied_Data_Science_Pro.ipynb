{
  "nbformat": 4,
  "nbformat_minor": 0,
  "metadata": {
    "colab": {
      "name": "Copy of Capstone Project Notebook for IBM Applied Data Science Pro.ipynb",
      "provenance": [],
      "collapsed_sections": [],
      "include_colab_link": true
    },
    "kernelspec": {
      "name": "python3",
      "display_name": "Python 3"
    }
  },
  "cells": [
    {
      "cell_type": "markdown",
      "metadata": {
        "id": "view-in-github",
        "colab_type": "text"
      },
      "source": [
        "<a href=\"https://colab.research.google.com/github/imtiaj-sreejon/Coursera_Capstone/blob/master/Copy_of_Capstone_Project_Notebook_for_IBM_Applied_Data_Science_Pro.ipynb\" target=\"_parent\"><img src=\"https://colab.research.google.com/assets/colab-badge.svg\" alt=\"Open In Colab\"/></a>"
      ]
    },
    {
      "cell_type": "markdown",
      "metadata": {
        "id": "SnqnAg_FD7bS",
        "colab_type": "text"
      },
      "source": [
        "# Capstone Project Notebook\n",
        "This notebook is for the <font color='green'>**capstone project**</font> under <font color='teal'>*IBM Applied Data Science Professional Course*</font> hosted on Coursera."
      ]
    },
    {
      "cell_type": "code",
      "metadata": {
        "id": "YFFZEJw6CWFp",
        "colab_type": "code",
        "outputId": "84ac1a0d-7361-4125-ae06-6256661f8ae7",
        "colab": {
          "base_uri": "https://localhost:8080/",
          "height": 34
        }
      },
      "source": [
        "import pandas as pd\n",
        "import numpy as np\n",
        "\n",
        "print('Hello Capstone Project Course!')"
      ],
      "execution_count": 0,
      "outputs": [
        {
          "output_type": "stream",
          "text": [
            "Hello Capstone Project Course!\n"
          ],
          "name": "stdout"
        }
      ]
    },
    {
      "cell_type": "markdown",
      "metadata": {
        "id": "7G5talRICGVE",
        "colab_type": "text"
      },
      "source": [
        "### Build Toronto neighborhood dataframe by scraping [Wikipedia](https://en.wikipedia.org/wiki/List_of_postal_codes_of_Canada:_M) "
      ]
    },
    {
      "cell_type": "code",
      "metadata": {
        "id": "00ylfVqnFSay",
        "colab_type": "code",
        "colab": {}
      },
      "source": [
        "from bs4 import BeautifulSoup"
      ],
      "execution_count": 0,
      "outputs": []
    },
    {
      "cell_type": "code",
      "metadata": {
        "id": "H4fPAyanEfiq",
        "colab_type": "code",
        "colab": {}
      },
      "source": [
        "soup = BeautifulSoup(\"<html>data</html>\", 'html5lib')"
      ],
      "execution_count": 0,
      "outputs": []
    },
    {
      "cell_type": "code",
      "metadata": {
        "id": "8CLZ1H42GBXK",
        "colab_type": "code",
        "outputId": "37599405-07ed-4476-98b3-6bdb04b1b0cd",
        "colab": {
          "base_uri": "https://localhost:8080/",
          "height": 134
        }
      },
      "source": [
        "print(soup.prettify())"
      ],
      "execution_count": 0,
      "outputs": [
        {
          "output_type": "stream",
          "text": [
            "<html>\n",
            " <head>\n",
            " </head>\n",
            " <body>\n",
            "  data\n",
            " </body>\n",
            "</html>\n"
          ],
          "name": "stdout"
        }
      ]
    },
    {
      "cell_type": "code",
      "metadata": {
        "id": "WKnF4l-9GHZW",
        "colab_type": "code",
        "colab": {}
      },
      "source": [
        " "
      ],
      "execution_count": 0,
      "outputs": []
    }
  ]
}